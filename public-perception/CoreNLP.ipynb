{
 "cells": [
  {
   "cell_type": "markdown",
   "metadata": {},
   "source": [
    "## Sample Sentences"
   ]
  },
  {
   "cell_type": "code",
   "execution_count": 74,
   "metadata": {},
   "outputs": [],
   "source": [
    "sentences = [\n",
    "    \"Sonia Sotomayor selling Greenwich Village pad over weak housing market http://trigeia.us/?hVqdE\",\n",
    "    \"NYC police say shooting of man in Greenwich Village was an anti-gay hate crime: http://apne.ws/18TAn8w -SS\",\n",
    "    \"Harlem & NYC in general was a major hub for radical politics since the Harlem Renaissance. There’s a reason why the CIA brought hard drugs to sabotage our neighborhoods.\",\n",
    "    \"I almost got run over by car in Greenwich Village but my neighbor saved me.\", \n",
    "    'Greenwich Village voted best neighborhood in 2019 polls',\n",
    "    \"NEW: Evictions dropped by nearly 20% last year in neighborhoods where low-income tenants received free, city-funded legal services, nonprofit report finds.\",\n",
    "    \"You are a beautiful bastard\",\n",
    "    \"I am not not happy\"\n",
    "]"
   ]
  },
  {
   "cell_type": "markdown",
   "metadata": {},
   "source": [
    "## Stanford CoreNLP"
   ]
  },
  {
   "cell_type": "code",
   "execution_count": 75,
   "metadata": {},
   "outputs": [
    {
     "name": "stdout",
     "output_type": "stream",
     "text": [
      "Sonia Sotomayor selling Greenwich Village pad over weak housing market http://trigeia.us/?hVqdE\n",
      "1\n",
      "\n",
      "NYC police say shooting of man in Greenwich Village was an anti-gay hate crime: http://apne.ws/18TAn8w -SS\n",
      "1\n",
      "\n",
      "Harlem & NYC in general was a major hub for radical politics since the Harlem Renaissance. There’s a reason why the CIA brought hard drugs to sabotage our neighborhoods.\n",
      "1\n",
      "\n",
      "I almost got run over by car in Greenwich Village but my neighbor saved me.\n",
      "1\n",
      "\n",
      "Greenwich Village voted best neighborhood in 2019 polls\n",
      "3\n",
      "\n",
      "NEW: Evictions dropped by nearly 20% last year in neighborhoods where low-income tenants received free, city-funded legal services, nonprofit report finds.\n",
      "1\n",
      "\n",
      "You are a beautiful bastard\n",
      "3\n",
      "\n",
      "I am not not happy\n",
      "1\n",
      "\n"
     ]
    }
   ],
   "source": [
    "import os\n",
    "from pycorenlp import StanfordCoreNLP\n",
    "\n",
    "nlp = StanfordCoreNLP('http://localhost:9000')\n",
    "properties = {'annotators': 'sentiment', 'outputFormat': 'json', 'timeout': 30000}\n",
    "\n",
    "res = [nlp.annotate(sentence, properties=properties) for sentence in sentences]\n",
    "sents = [el['sentences'][0]['sentimentValue'] for el in res]\n",
    "\n",
    "for i in range(len(sentences)):\n",
    "    print(f'{sentences[i]}')\n",
    "    print(f'{sents[i]}\\n')"
   ]
  },
  {
   "cell_type": "markdown",
   "metadata": {},
   "source": [
    "## VADER Sentiment"
   ]
  },
  {
   "cell_type": "code",
   "execution_count": 76,
   "metadata": {},
   "outputs": [
    {
     "name": "stdout",
     "output_type": "stream",
     "text": [
      "Sonia Sotomayor selling Greenwich Village pad over weak housing market http://trigeia.us/?hVqdE\n",
      "{'neg': 0.225, 'neu': 0.775, 'pos': 0.0, 'compound': -0.4404}\n",
      "\n",
      "NYC police say shooting of man in Greenwich Village was an anti-gay hate crime: http://apne.ws/18TAn8w -SS\n",
      "{'neg': 0.34, 'neu': 0.66, 'pos': 0.0, 'compound': -0.802}\n",
      "\n",
      "Harlem & NYC in general was a major hub for radical politics since the Harlem Renaissance. There’s a reason why the CIA brought hard drugs to sabotage our neighborhoods.\n",
      "{'neg': 0.167, 'neu': 0.833, 'pos': 0.0, 'compound': -0.5859}\n",
      "\n",
      "I almost got run over by car in Greenwich Village but my neighbor saved me.\n",
      "{'neg': 0.0, 'neu': 0.778, 'pos': 0.222, 'compound': 0.5719}\n",
      "\n",
      "Greenwich Village voted best neighborhood in 2019 polls\n",
      "{'neg': 0.0, 'neu': 0.625, 'pos': 0.375, 'compound': 0.6369}\n",
      "\n",
      "NEW: Evictions dropped by nearly 20% last year in neighborhoods where low-income tenants received free, city-funded legal services, nonprofit report finds.\n",
      "{'neg': 0.0, 'neu': 0.798, 'pos': 0.202, 'compound': 0.5859}\n",
      "\n",
      "You are a beautiful bastard\n",
      "{'neg': 0.372, 'neu': 0.213, 'pos': 0.415, 'compound': 0.1027}\n",
      "\n",
      "I am not not happy\n",
      "{'neg': 0.0, 'neu': 0.548, 'pos': 0.452, 'compound': 0.3566}\n",
      "\n"
     ]
    }
   ],
   "source": [
    "from vaderSentiment.vaderSentiment import SentimentIntensityAnalyzer\n",
    "\n",
    "analyzer = SentimentIntensityAnalyzer()\n",
    "for sentence in sentences:\n",
    "    vs = analyzer.polarity_scores(sentence)\n",
    "    print(f'{sentence}')\n",
    "    print(f'{str(vs)}\\n')"
   ]
  },
  {
   "cell_type": "code",
   "execution_count": null,
   "metadata": {},
   "outputs": [],
   "source": []
  }
 ],
 "metadata": {
  "kernelspec": {
   "display_name": "Python 3",
   "language": "python",
   "name": "python3"
  },
  "language_info": {
   "codemirror_mode": {
    "name": "ipython",
    "version": 3
   },
   "file_extension": ".py",
   "mimetype": "text/x-python",
   "name": "python",
   "nbconvert_exporter": "python",
   "pygments_lexer": "ipython3",
   "version": "3.7.0"
  }
 },
 "nbformat": 4,
 "nbformat_minor": 4
}
