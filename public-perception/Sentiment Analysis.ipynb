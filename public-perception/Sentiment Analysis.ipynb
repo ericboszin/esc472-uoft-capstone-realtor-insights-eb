{
 "cells": [
  {
   "cell_type": "markdown",
   "metadata": {},
   "source": [
    "## Sentiment Tool"
   ]
  },
  {
   "cell_type": "code",
   "execution_count": 67,
   "metadata": {},
   "outputs": [],
   "source": [
    "from pipeline import NycNtaLoader, TwitterIngestor\n",
    "from sentiment import NTA\n",
    "import pandas as pd\n",
    "import numpy as np\n",
    "import matplotlib.pyplot as plt\n",
    "import json"
   ]
  },
  {
   "cell_type": "markdown",
   "metadata": {},
   "source": [
    "### Get New York City NTAs"
   ]
  },
  {
   "cell_type": "code",
   "execution_count": 69,
   "metadata": {},
   "outputs": [
    {
     "name": "stderr",
     "output_type": "stream",
     "text": [
      "/Library/Frameworks/Python.framework/Versions/3.7/lib/python3.7/site-packages/ipykernel_launcher.py:19: RuntimeWarning: invalid value encountered in true_divide\n"
     ]
    }
   ],
   "source": [
    "nta_loader = NycNtaLoader()\n",
    "keywords = nta_loader.load(get_keywords=True)\n",
    "df = nta_loader.load()\n",
    "df['Keyword'] = keywords\n",
    "\n",
    "sentiment_analysis = []\n",
    "\n",
    "for idx, row in df.iterrows():\n",
    "    nta = NTA(nta=row['Keyword'])\n",
    "    sentiment_df = nta.get_nta_sentiment_df()\n",
    "    \n",
    "    buckets = np.arange(-1, 1.2, 0.2)\n",
    "    buckets = [(round(buckets[i], 2), round(buckets[i+1], 2)) for i in range(len(buckets) - 1)]\n",
    "    sentiment_count = np.array([0 for bucket in buckets])\n",
    "    for sentiment in sentiment_df['vader_sent'].to_numpy():\n",
    "        for i in range(len(buckets)):\n",
    "            if sentiment > buckets[i][0] and sentiment <= buckets[i][1]:\n",
    "                sentiment_count[i] += 1\n",
    "    sentiment_pct = list(sentiment_count / sum(sentiment_count))\n",
    "\n",
    "    sentiment_dict = {}\n",
    "    sentiment_dict['district'] = row['NTA']\n",
    "    sentiment_dict['sentiment'] = np.mean(sentiment_df['vader_sent'].to_numpy())\n",
    "    sentiment_dict['histogram'] = sentiment_pct\n",
    "    sentiment_analysis.append(sentiment_dict)\n",
    "\n",
    "sentiment_analysis = sorted(sentiment_analysis, key=lambda k: k['district']) "
   ]
  },
  {
   "cell_type": "code",
   "execution_count": 70,
   "metadata": {},
   "outputs": [],
   "source": [
    "import json\n",
    "with open('sentiment.json', 'w') as f:\n",
    "    json.dump(sentiment_analysis, f)"
   ]
  },
  {
   "cell_type": "code",
   "execution_count": null,
   "metadata": {},
   "outputs": [],
   "source": []
  }
 ],
 "metadata": {
  "kernelspec": {
   "display_name": "Python 3",
   "language": "python",
   "name": "python3"
  },
  "language_info": {
   "codemirror_mode": {
    "name": "ipython",
    "version": 3
   },
   "file_extension": ".py",
   "mimetype": "text/x-python",
   "name": "python",
   "nbconvert_exporter": "python",
   "pygments_lexer": "ipython3",
   "version": "3.7.0"
  }
 },
 "nbformat": 4,
 "nbformat_minor": 4
}
