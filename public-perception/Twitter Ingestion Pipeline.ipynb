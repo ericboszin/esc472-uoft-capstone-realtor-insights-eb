{
 "cells": [
  {
   "cell_type": "markdown",
   "metadata": {},
   "source": [
    "## Twitter Ingestion Pipeline"
   ]
  },
  {
   "cell_type": "code",
   "execution_count": 6,
   "metadata": {},
   "outputs": [],
   "source": [
    "from pipeline import NycNtaLoader, TwitterIngestor"
   ]
  },
  {
   "cell_type": "markdown",
   "metadata": {},
   "source": [
    "### Get New York City NTAs"
   ]
  },
  {
   "cell_type": "code",
   "execution_count": 21,
   "metadata": {},
   "outputs": [],
   "source": [
    "nta_loader = NycNtaLoader()\n",
    "keywords = nta_loader.load(get_keywords=True)"
   ]
  },
  {
   "cell_type": "markdown",
   "metadata": {},
   "source": [
    "### Perform Ingestion"
   ]
  },
  {
   "cell_type": "code",
   "execution_count": 22,
   "metadata": {
    "scrolled": true
   },
   "outputs": [],
   "source": [
    "twitter_ingestor = TwitterIngestor(\n",
    "    ckey='hqIQaE6RCC3Z5Jm8pCuWPPwPV',\n",
    "    csecret='MJBNLyftcozaC8C9l0phboaemgStv3eGQ8s4UfEsy8hh9tBnsK',\n",
    "    akey='775764899251314688-wnHTmMY9hv9MtLS3uL4kFfMi3cY45yD',\n",
    "    asecret='nyMf6qOMklFe0f1e74j1ZLgpxbaKL3YGIbMOzcCd9eebK',\n",
    ")\n",
    "\n",
    "for keyword in keywords:\n",
    "    res = twitter_ingestor.search(keyword=keyword)"
   ]
  }
 ],
 "metadata": {
  "kernelspec": {
   "display_name": "Python 3",
   "language": "python",
   "name": "python3"
  },
  "language_info": {
   "codemirror_mode": {
    "name": "ipython",
    "version": 3
   },
   "file_extension": ".py",
   "mimetype": "text/x-python",
   "name": "python",
   "nbconvert_exporter": "python",
   "pygments_lexer": "ipython3",
   "version": "3.7.0"
  }
 },
 "nbformat": 4,
 "nbformat_minor": 4
}
